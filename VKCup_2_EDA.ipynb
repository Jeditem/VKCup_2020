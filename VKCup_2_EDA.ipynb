{
  "nbformat": 4,
  "nbformat_minor": 0,
  "metadata": {
    "colab": {
      "name": "VKCup_2_EDA.ipynb",
      "provenance": [],
      "collapsed_sections": [],
      "authorship_tag": "ABX9TyPRtywo3rsWUzU6Xxw95uLR",
      "include_colab_link": true
    },
    "kernelspec": {
      "name": "python3",
      "display_name": "Python 3"
    }
  },
  "cells": [
    {
      "cell_type": "markdown",
      "metadata": {
        "id": "view-in-github",
        "colab_type": "text"
      },
      "source": [
        "<a href=\"https://colab.research.google.com/github/Jeditem/VKCup_2020/blob/master/VKCup_2_EDA.ipynb\" target=\"_parent\"><img src=\"https://colab.research.google.com/assets/colab-badge.svg\" alt=\"Open In Colab\"/></a>"
      ]
    },
    {
      "cell_type": "code",
      "metadata": {
        "id": "PWihDoC_DUYZ",
        "colab_type": "code",
        "colab": {}
      },
      "source": [
        "import os\n",
        "import itertools\n",
        "import numpy as np\n",
        "import pandas as pd\n",
        "import pandas_profiling as pd_prof\n",
        "import matplotlib.pyplot as plt\n",
        "import seaborn as sns\n",
        "from collections import Counter\n",
        "from scipy.stats import lognorm\n",
        "%matplotlib inline\n"
      ],
      "execution_count": 0,
      "outputs": []
    },
    {
      "cell_type": "code",
      "metadata": {
        "id": "WEuuu9XKE1Sb",
        "colab_type": "code",
        "outputId": "2f9c89c0-2daf-4d2d-ae2d-80214ad9c90d",
        "colab": {
          "base_uri": "https://localhost:8080/",
          "height": 125
        }
      },
      "source": [
        "from google.colab import drive\n",
        "drive.mount('/content/gdrive')"
      ],
      "execution_count": 0,
      "outputs": [
        {
          "output_type": "stream",
          "text": [
            "Go to this URL in a browser: https://accounts.google.com/o/oauth2/auth?client_id=947318989803-6bn6qk8qdgf4n4g3pfee6491hc0brc4i.apps.googleusercontent.com&redirect_uri=urn%3aietf%3awg%3aoauth%3a2.0%3aoob&response_type=code&scope=email%20https%3a%2f%2fwww.googleapis.com%2fauth%2fdocs.test%20https%3a%2f%2fwww.googleapis.com%2fauth%2fdrive%20https%3a%2f%2fwww.googleapis.com%2fauth%2fdrive.photos.readonly%20https%3a%2f%2fwww.googleapis.com%2fauth%2fpeopleapi.readonly\n",
            "\n",
            "Enter your authorization code:\n",
            "··········\n",
            "Mounted at /content/gdrive\n"
          ],
          "name": "stdout"
        }
      ]
    },
    {
      "cell_type": "code",
      "metadata": {
        "id": "hzKljzlJE21C",
        "colab_type": "code",
        "colab": {}
      },
      "source": [
        "users_df = pd.read_csv(r'/content/gdrive/My Drive/VKCup/users.tsv', sep='\\t')\n",
        "history_df = pd.read_csv(r'/content/gdrive/My Drive/VKCup/history.tsv', sep='\\t')\n",
        "validate_df = pd.read_csv(r'/content/gdrive/My Drive/VKCup/validate.tsv', sep='\\t')\n",
        "answers_df = pd.read_csv(r'/content/gdrive/My Drive/VKCup/validate_answers.tsv', sep='\\t')"
      ],
      "execution_count": 0,
      "outputs": []
    },
    {
      "cell_type": "code",
      "metadata": {
        "id": "27eh0Ma2E_BZ",
        "colab_type": "code",
        "colab": {}
      },
      "source": [
        "# Сначала сконвертим колонки с площадками и юзерами в листы и возьмем их размеры\n",
        "validate_df['user_ids'] = validate_df['user_ids'].astype(str).str.split(',')\n",
        "validate_df['audience_size'] = validate_df['user_ids'].str.len()\n",
        "validate_df['publishers'] = validate_df['publishers'].astype(str).str.split(',')\n",
        "validate_df['publishers_amount'] = validate_df['publishers'].str.len()\n",
        "# Здесь де вычислим продолжительность рекламы\n",
        "validate_df['ads_duration'] = validate_df['hour_end'] - validate_df['hour_start']\n",
        "\n",
        "validate_df = validate_df.join(answers_df)"
      ],
      "execution_count": 0,
      "outputs": []
    },
    {
      "cell_type": "code",
      "metadata": {
        "id": "jOMF_ZwjLKG5",
        "colab_type": "code",
        "outputId": "3464fc04-80d7-45b0-c314-d9c77d25ae62",
        "colab": {
          "base_uri": "https://localhost:8080/",
          "height": 406
        }
      },
      "source": [
        "validate_df"
      ],
      "execution_count": 0,
      "outputs": [
        {
          "output_type": "execute_result",
          "data": {
            "text/html": [
              "<div>\n",
              "<style scoped>\n",
              "    .dataframe tbody tr th:only-of-type {\n",
              "        vertical-align: middle;\n",
              "    }\n",
              "\n",
              "    .dataframe tbody tr th {\n",
              "        vertical-align: top;\n",
              "    }\n",
              "\n",
              "    .dataframe thead th {\n",
              "        text-align: right;\n",
              "    }\n",
              "</style>\n",
              "<table border=\"1\" class=\"dataframe\">\n",
              "  <thead>\n",
              "    <tr style=\"text-align: right;\">\n",
              "      <th></th>\n",
              "      <th>cpm</th>\n",
              "      <th>hour_start</th>\n",
              "      <th>hour_end</th>\n",
              "      <th>publishers</th>\n",
              "      <th>audience_size</th>\n",
              "      <th>user_ids</th>\n",
              "      <th>publishers_amount</th>\n",
              "      <th>ads_duration</th>\n",
              "      <th>at_least_one</th>\n",
              "      <th>at_least_two</th>\n",
              "      <th>at_least_three</th>\n",
              "    </tr>\n",
              "  </thead>\n",
              "  <tbody>\n",
              "    <tr>\n",
              "      <th>0</th>\n",
              "      <td>220.0</td>\n",
              "      <td>1058</td>\n",
              "      <td>1153</td>\n",
              "      <td>[7, 17]</td>\n",
              "      <td>1906</td>\n",
              "      <td>[12, 44, 46, 50, 58, 71, 93, 122, 134, 143, 17...</td>\n",
              "      <td>2</td>\n",
              "      <td>95</td>\n",
              "      <td>0.0430</td>\n",
              "      <td>0.0152</td>\n",
              "      <td>0.0073</td>\n",
              "    </tr>\n",
              "    <tr>\n",
              "      <th>1</th>\n",
              "      <td>312.0</td>\n",
              "      <td>1295</td>\n",
              "      <td>1301</td>\n",
              "      <td>[3, 18]</td>\n",
              "      <td>1380</td>\n",
              "      <td>[29, 81, 98, 102, 165, 167, 195, 205, 218, 231...</td>\n",
              "      <td>2</td>\n",
              "      <td>6</td>\n",
              "      <td>0.0130</td>\n",
              "      <td>0.0000</td>\n",
              "      <td>0.0000</td>\n",
              "    </tr>\n",
              "    <tr>\n",
              "      <th>2</th>\n",
              "      <td>70.0</td>\n",
              "      <td>1229</td>\n",
              "      <td>1249</td>\n",
              "      <td>[1, 2, 3, 9, 15, 21]</td>\n",
              "      <td>888</td>\n",
              "      <td>[12, 23, 25, 29, 45, 85, 92, 124, 156, 190, 27...</td>\n",
              "      <td>6</td>\n",
              "      <td>20</td>\n",
              "      <td>0.0878</td>\n",
              "      <td>0.0135</td>\n",
              "      <td>0.0000</td>\n",
              "    </tr>\n",
              "    <tr>\n",
              "      <th>3</th>\n",
              "      <td>240.0</td>\n",
              "      <td>1295</td>\n",
              "      <td>1377</td>\n",
              "      <td>[1, 14]</td>\n",
              "      <td>440</td>\n",
              "      <td>[44, 122, 187, 209, 242, 255, 312, 345, 382, 4...</td>\n",
              "      <td>2</td>\n",
              "      <td>82</td>\n",
              "      <td>0.2295</td>\n",
              "      <td>0.1295</td>\n",
              "      <td>0.0727</td>\n",
              "    </tr>\n",
              "    <tr>\n",
              "      <th>4</th>\n",
              "      <td>262.0</td>\n",
              "      <td>752</td>\n",
              "      <td>990</td>\n",
              "      <td>[1, 3, 7, 8]</td>\n",
              "      <td>1476</td>\n",
              "      <td>[15, 24, 30, 43, 50, 53, 96, 105, 159, 168, 18...</td>\n",
              "      <td>4</td>\n",
              "      <td>238</td>\n",
              "      <td>0.3963</td>\n",
              "      <td>0.2785</td>\n",
              "      <td>0.2270</td>\n",
              "    </tr>\n",
              "    <tr>\n",
              "      <th>...</th>\n",
              "      <td>...</td>\n",
              "      <td>...</td>\n",
              "      <td>...</td>\n",
              "      <td>...</td>\n",
              "      <td>...</td>\n",
              "      <td>...</td>\n",
              "      <td>...</td>\n",
              "      <td>...</td>\n",
              "      <td>...</td>\n",
              "      <td>...</td>\n",
              "      <td>...</td>\n",
              "    </tr>\n",
              "    <tr>\n",
              "      <th>1003</th>\n",
              "      <td>127.0</td>\n",
              "      <td>1095</td>\n",
              "      <td>1154</td>\n",
              "      <td>[2, 7, 12, 15, 16]</td>\n",
              "      <td>368</td>\n",
              "      <td>[38, 50, 143, 237, 456, 649, 653, 698, 881, 89...</td>\n",
              "      <td>5</td>\n",
              "      <td>59</td>\n",
              "      <td>0.0679</td>\n",
              "      <td>0.0408</td>\n",
              "      <td>0.0190</td>\n",
              "    </tr>\n",
              "    <tr>\n",
              "      <th>1004</th>\n",
              "      <td>90.0</td>\n",
              "      <td>1052</td>\n",
              "      <td>1056</td>\n",
              "      <td>[2, 21]</td>\n",
              "      <td>484</td>\n",
              "      <td>[1, 4, 61, 212, 230, 348, 356, 372, 429, 431, ...</td>\n",
              "      <td>2</td>\n",
              "      <td>4</td>\n",
              "      <td>0.0165</td>\n",
              "      <td>0.0000</td>\n",
              "      <td>0.0000</td>\n",
              "    </tr>\n",
              "    <tr>\n",
              "      <th>1005</th>\n",
              "      <td>122.0</td>\n",
              "      <td>1058</td>\n",
              "      <td>1063</td>\n",
              "      <td>[2, 5]</td>\n",
              "      <td>704</td>\n",
              "      <td>[1, 23, 29, 104, 136, 176, 201, 206, 250, 269,...</td>\n",
              "      <td>2</td>\n",
              "      <td>5</td>\n",
              "      <td>0.0071</td>\n",
              "      <td>0.0000</td>\n",
              "      <td>0.0000</td>\n",
              "    </tr>\n",
              "    <tr>\n",
              "      <th>1006</th>\n",
              "      <td>138.0</td>\n",
              "      <td>932</td>\n",
              "      <td>1169</td>\n",
              "      <td>[1, 2, 7]</td>\n",
              "      <td>1210</td>\n",
              "      <td>[67, 73, 80, 146, 182, 202, 212, 254, 307, 377...</td>\n",
              "      <td>3</td>\n",
              "      <td>237</td>\n",
              "      <td>0.3669</td>\n",
              "      <td>0.2628</td>\n",
              "      <td>0.2066</td>\n",
              "    </tr>\n",
              "    <tr>\n",
              "      <th>1007</th>\n",
              "      <td>35.0</td>\n",
              "      <td>747</td>\n",
              "      <td>806</td>\n",
              "      <td>[1, 3, 7, 18]</td>\n",
              "      <td>1000</td>\n",
              "      <td>[39, 78, 101, 205, 242, 266, 277, 284, 306, 44...</td>\n",
              "      <td>4</td>\n",
              "      <td>59</td>\n",
              "      <td>0.0710</td>\n",
              "      <td>0.0300</td>\n",
              "      <td>0.0100</td>\n",
              "    </tr>\n",
              "  </tbody>\n",
              "</table>\n",
              "<p>1008 rows × 11 columns</p>\n",
              "</div>"
            ],
            "text/plain": [
              "        cpm  hour_start  hour_end  ... at_least_one  at_least_two at_least_three\n",
              "0     220.0        1058      1153  ...       0.0430        0.0152         0.0073\n",
              "1     312.0        1295      1301  ...       0.0130        0.0000         0.0000\n",
              "2      70.0        1229      1249  ...       0.0878        0.0135         0.0000\n",
              "3     240.0        1295      1377  ...       0.2295        0.1295         0.0727\n",
              "4     262.0         752       990  ...       0.3963        0.2785         0.2270\n",
              "...     ...         ...       ...  ...          ...           ...            ...\n",
              "1003  127.0        1095      1154  ...       0.0679        0.0408         0.0190\n",
              "1004   90.0        1052      1056  ...       0.0165        0.0000         0.0000\n",
              "1005  122.0        1058      1063  ...       0.0071        0.0000         0.0000\n",
              "1006  138.0         932      1169  ...       0.3669        0.2628         0.2066\n",
              "1007   35.0         747       806  ...       0.0710        0.0300         0.0100\n",
              "\n",
              "[1008 rows x 11 columns]"
            ]
          },
          "metadata": {
            "tags": []
          },
          "execution_count": 45
        }
      ]
    },
    {
      "cell_type": "code",
      "metadata": {
        "id": "OwF_EEe_LK0Q",
        "colab_type": "code",
        "colab": {}
      },
      "source": [
        "sns.jointplot(x='audience_size', y='at_least_one', data=validate_df)\n",
        "# sns.jointplot(x='cpm', y='at_least_two', data=validate_df)\n",
        "# sns.jointplot(x='cpm', y='at_least_three', data=validate_df)"
      ],
      "execution_count": 0,
      "outputs": []
    },
    {
      "cell_type": "code",
      "metadata": {
        "id": "gjGleaaoLQX_",
        "colab_type": "code",
        "colab": {}
      },
      "source": [
        "users_lists = validate_df['user_ids'].values\n",
        "users_lists = (list(itertools.chain.from_iterable(users_lists)))\n",
        "users_counter = Counter(users_lists)"
      ],
      "execution_count": 0,
      "outputs": []
    },
    {
      "cell_type": "code",
      "metadata": {
        "id": "2gv_DvzJScFA",
        "colab_type": "code",
        "outputId": "fe2baa97-e603-4d3f-dd98-c1e6d5ad24ac",
        "colab": {
          "base_uri": "https://localhost:8080/",
          "height": 34
        }
      },
      "source": [
        "validate_df.hour_start.min()"
      ],
      "execution_count": 0,
      "outputs": [
        {
          "output_type": "execute_result",
          "data": {
            "text/plain": [
              "747"
            ]
          },
          "metadata": {
            "tags": []
          },
          "execution_count": 47
        }
      ]
    },
    {
      "cell_type": "code",
      "metadata": {
        "id": "-og_fmpvTV1h",
        "colab_type": "code",
        "outputId": "7452a992-34da-40f7-f213-34ede1593f83",
        "colab": {
          "base_uri": "https://localhost:8080/",
          "height": 406
        }
      },
      "source": [
        "history_df"
      ],
      "execution_count": 0,
      "outputs": [
        {
          "output_type": "execute_result",
          "data": {
            "text/html": [
              "<div>\n",
              "<style scoped>\n",
              "    .dataframe tbody tr th:only-of-type {\n",
              "        vertical-align: middle;\n",
              "    }\n",
              "\n",
              "    .dataframe tbody tr th {\n",
              "        vertical-align: top;\n",
              "    }\n",
              "\n",
              "    .dataframe thead th {\n",
              "        text-align: right;\n",
              "    }\n",
              "</style>\n",
              "<table border=\"1\" class=\"dataframe\">\n",
              "  <thead>\n",
              "    <tr style=\"text-align: right;\">\n",
              "      <th></th>\n",
              "      <th>hour</th>\n",
              "      <th>cpm</th>\n",
              "      <th>publisher</th>\n",
              "      <th>user_id</th>\n",
              "    </tr>\n",
              "  </thead>\n",
              "  <tbody>\n",
              "    <tr>\n",
              "      <th>0</th>\n",
              "      <td>10</td>\n",
              "      <td>30.00</td>\n",
              "      <td>1</td>\n",
              "      <td>15661</td>\n",
              "    </tr>\n",
              "    <tr>\n",
              "      <th>1</th>\n",
              "      <td>8</td>\n",
              "      <td>41.26</td>\n",
              "      <td>1</td>\n",
              "      <td>8444</td>\n",
              "    </tr>\n",
              "    <tr>\n",
              "      <th>2</th>\n",
              "      <td>7</td>\n",
              "      <td>360.00</td>\n",
              "      <td>1</td>\n",
              "      <td>15821</td>\n",
              "    </tr>\n",
              "    <tr>\n",
              "      <th>3</th>\n",
              "      <td>18</td>\n",
              "      <td>370.00</td>\n",
              "      <td>1</td>\n",
              "      <td>21530</td>\n",
              "    </tr>\n",
              "    <tr>\n",
              "      <th>4</th>\n",
              "      <td>8</td>\n",
              "      <td>195.00</td>\n",
              "      <td>2</td>\n",
              "      <td>22148</td>\n",
              "    </tr>\n",
              "    <tr>\n",
              "      <th>...</th>\n",
              "      <td>...</td>\n",
              "      <td>...</td>\n",
              "      <td>...</td>\n",
              "      <td>...</td>\n",
              "    </tr>\n",
              "    <tr>\n",
              "      <th>1147852</th>\n",
              "      <td>382</td>\n",
              "      <td>45.00</td>\n",
              "      <td>1</td>\n",
              "      <td>7871</td>\n",
              "    </tr>\n",
              "    <tr>\n",
              "      <th>1147853</th>\n",
              "      <td>360</td>\n",
              "      <td>33.35</td>\n",
              "      <td>1</td>\n",
              "      <td>7992</td>\n",
              "    </tr>\n",
              "    <tr>\n",
              "      <th>1147854</th>\n",
              "      <td>381</td>\n",
              "      <td>205.00</td>\n",
              "      <td>1</td>\n",
              "      <td>21516</td>\n",
              "    </tr>\n",
              "    <tr>\n",
              "      <th>1147855</th>\n",
              "      <td>383</td>\n",
              "      <td>37.50</td>\n",
              "      <td>1</td>\n",
              "      <td>8224</td>\n",
              "    </tr>\n",
              "    <tr>\n",
              "      <th>1147856</th>\n",
              "      <td>383</td>\n",
              "      <td>200.85</td>\n",
              "      <td>1</td>\n",
              "      <td>23967</td>\n",
              "    </tr>\n",
              "  </tbody>\n",
              "</table>\n",
              "<p>1147857 rows × 4 columns</p>\n",
              "</div>"
            ],
            "text/plain": [
              "         hour     cpm  publisher  user_id\n",
              "0          10   30.00          1    15661\n",
              "1           8   41.26          1     8444\n",
              "2           7  360.00          1    15821\n",
              "3          18  370.00          1    21530\n",
              "4           8  195.00          2    22148\n",
              "...       ...     ...        ...      ...\n",
              "1147852   382   45.00          1     7871\n",
              "1147853   360   33.35          1     7992\n",
              "1147854   381  205.00          1    21516\n",
              "1147855   383   37.50          1     8224\n",
              "1147856   383  200.85          1    23967\n",
              "\n",
              "[1147857 rows x 4 columns]"
            ]
          },
          "metadata": {
            "tags": []
          },
          "execution_count": 37
        }
      ]
    },
    {
      "cell_type": "code",
      "metadata": {
        "id": "JU1LBrMoYnxQ",
        "colab_type": "code",
        "colab": {}
      },
      "source": [
        "# сначала почистим CPM от ада в 2000 тысяч\n",
        "history_df_mod = history_df[(history_df.cpm <= 1000)]\n",
        "users_costs = history_df_mod.groupby('user_id')['cpm'].mean()\n",
        "users_df = users_df.join(users_costs).fillna(0.0)"
      ],
      "execution_count": 0,
      "outputs": []
    },
    {
      "cell_type": "code",
      "metadata": {
        "id": "CvEUwC9rYzmX",
        "colab_type": "code",
        "outputId": "97e9a181-f671-4bee-89f7-632c22e85003",
        "colab": {
          "base_uri": "https://localhost:8080/",
          "height": 197
        }
      },
      "source": [
        "users_df.head()"
      ],
      "execution_count": 0,
      "outputs": [
        {
          "output_type": "execute_result",
          "data": {
            "text/html": [
              "<div>\n",
              "<style scoped>\n",
              "    .dataframe tbody tr th:only-of-type {\n",
              "        vertical-align: middle;\n",
              "    }\n",
              "\n",
              "    .dataframe tbody tr th {\n",
              "        vertical-align: top;\n",
              "    }\n",
              "\n",
              "    .dataframe thead th {\n",
              "        text-align: right;\n",
              "    }\n",
              "</style>\n",
              "<table border=\"1\" class=\"dataframe\">\n",
              "  <thead>\n",
              "    <tr style=\"text-align: right;\">\n",
              "      <th></th>\n",
              "      <th>user_id</th>\n",
              "      <th>sex</th>\n",
              "      <th>age</th>\n",
              "      <th>city_id</th>\n",
              "      <th>cpm</th>\n",
              "    </tr>\n",
              "  </thead>\n",
              "  <tbody>\n",
              "    <tr>\n",
              "      <th>0</th>\n",
              "      <td>0</td>\n",
              "      <td>2</td>\n",
              "      <td>19</td>\n",
              "      <td>0</td>\n",
              "      <td>805.650000</td>\n",
              "    </tr>\n",
              "    <tr>\n",
              "      <th>1</th>\n",
              "      <td>1</td>\n",
              "      <td>1</td>\n",
              "      <td>0</td>\n",
              "      <td>1</td>\n",
              "      <td>111.525679</td>\n",
              "    </tr>\n",
              "    <tr>\n",
              "      <th>2</th>\n",
              "      <td>2</td>\n",
              "      <td>2</td>\n",
              "      <td>24</td>\n",
              "      <td>2</td>\n",
              "      <td>0.000000</td>\n",
              "    </tr>\n",
              "    <tr>\n",
              "      <th>3</th>\n",
              "      <td>3</td>\n",
              "      <td>1</td>\n",
              "      <td>20</td>\n",
              "      <td>3</td>\n",
              "      <td>370.880000</td>\n",
              "    </tr>\n",
              "    <tr>\n",
              "      <th>4</th>\n",
              "      <td>4</td>\n",
              "      <td>2</td>\n",
              "      <td>29</td>\n",
              "      <td>4</td>\n",
              "      <td>44.627955</td>\n",
              "    </tr>\n",
              "  </tbody>\n",
              "</table>\n",
              "</div>"
            ],
            "text/plain": [
              "   user_id  sex  age  city_id         cpm\n",
              "0        0    2   19        0  805.650000\n",
              "1        1    1    0        1  111.525679\n",
              "2        2    2   24        2    0.000000\n",
              "3        3    1   20        3  370.880000\n",
              "4        4    2   29        4   44.627955"
            ]
          },
          "metadata": {
            "tags": []
          },
          "execution_count": 51
        }
      ]
    },
    {
      "cell_type": "code",
      "metadata": {
        "id": "2-5GFzLxZOOH",
        "colab_type": "code",
        "colab": {}
      },
      "source": [
        "# теперь вычислим для каждой ставки, среднюю стоимость товарищей, на которых она целится, и разницу\n",
        "def calculate_mean_cpm_by_users (users_list):\n",
        "    total_cpm = []\n",
        "    for user in users_list:\n",
        "        curr_user_cost = users_df.iloc[[int(user)]]['cpm']\n",
        "        total_cpm.append(curr_user_cost.values[0])\n",
        "    return np.mean(total_cpm)\n"
      ],
      "execution_count": 0,
      "outputs": []
    },
    {
      "cell_type": "code",
      "metadata": {
        "id": "GaN-7eiLbX76",
        "colab_type": "code",
        "outputId": "d8ef3f90-b56e-42b2-b14d-263a82b636b4",
        "colab": {
          "base_uri": "https://localhost:8080/",
          "height": 52
        }
      },
      "source": [
        "%%time\n",
        "validate_test = validate_df.copy()\n",
        "validate_test['mean_cost'] = validate_test.apply(lambda row: calculate_mean_cpm_by_users(row['user_ids']), axis=1)\n"
      ],
      "execution_count": 0,
      "outputs": [
        {
          "output_type": "stream",
          "text": [
            "CPU times: user 8min 8s, sys: 1.29 s, total: 8min 9s\n",
            "Wall time: 8min 7s\n"
          ],
          "name": "stdout"
        }
      ]
    },
    {
      "cell_type": "code",
      "metadata": {
        "id": "x7UBrbynbYYO",
        "colab_type": "code",
        "colab": {}
      },
      "source": [
        "validate_test['discrepancy'] = validate_test['mean_cost'] - validate_test['cpm']"
      ],
      "execution_count": 0,
      "outputs": []
    },
    {
      "cell_type": "code",
      "metadata": {
        "id": "Y6w0Hv7kgJtQ",
        "colab_type": "code",
        "outputId": "ae55c40f-5be6-4696-f8d4-889bb82ce8ad",
        "colab": {
          "base_uri": "https://localhost:8080/",
          "height": 197
        }
      },
      "source": [
        "validate_test.head()"
      ],
      "execution_count": 0,
      "outputs": [
        {
          "output_type": "execute_result",
          "data": {
            "text/html": [
              "<div>\n",
              "<style scoped>\n",
              "    .dataframe tbody tr th:only-of-type {\n",
              "        vertical-align: middle;\n",
              "    }\n",
              "\n",
              "    .dataframe tbody tr th {\n",
              "        vertical-align: top;\n",
              "    }\n",
              "\n",
              "    .dataframe thead th {\n",
              "        text-align: right;\n",
              "    }\n",
              "</style>\n",
              "<table border=\"1\" class=\"dataframe\">\n",
              "  <thead>\n",
              "    <tr style=\"text-align: right;\">\n",
              "      <th></th>\n",
              "      <th>cpm</th>\n",
              "      <th>hour_start</th>\n",
              "      <th>hour_end</th>\n",
              "      <th>publishers</th>\n",
              "      <th>audience_size</th>\n",
              "      <th>user_ids</th>\n",
              "      <th>publishers_amount</th>\n",
              "      <th>ads_duration</th>\n",
              "      <th>at_least_one</th>\n",
              "      <th>at_least_two</th>\n",
              "      <th>at_least_three</th>\n",
              "      <th>mean_cost</th>\n",
              "      <th>discrepancy</th>\n",
              "    </tr>\n",
              "  </thead>\n",
              "  <tbody>\n",
              "    <tr>\n",
              "      <th>0</th>\n",
              "      <td>220.0</td>\n",
              "      <td>1058</td>\n",
              "      <td>1153</td>\n",
              "      <td>[7, 17]</td>\n",
              "      <td>1906</td>\n",
              "      <td>[12, 44, 46, 50, 58, 71, 93, 122, 134, 143, 17...</td>\n",
              "      <td>2</td>\n",
              "      <td>95</td>\n",
              "      <td>0.0430</td>\n",
              "      <td>0.0152</td>\n",
              "      <td>0.0073</td>\n",
              "      <td>201.954843</td>\n",
              "      <td>-18.045157</td>\n",
              "    </tr>\n",
              "    <tr>\n",
              "      <th>1</th>\n",
              "      <td>312.0</td>\n",
              "      <td>1295</td>\n",
              "      <td>1301</td>\n",
              "      <td>[3, 18]</td>\n",
              "      <td>1380</td>\n",
              "      <td>[29, 81, 98, 102, 165, 167, 195, 205, 218, 231...</td>\n",
              "      <td>2</td>\n",
              "      <td>6</td>\n",
              "      <td>0.0130</td>\n",
              "      <td>0.0000</td>\n",
              "      <td>0.0000</td>\n",
              "      <td>160.744132</td>\n",
              "      <td>-151.255868</td>\n",
              "    </tr>\n",
              "    <tr>\n",
              "      <th>2</th>\n",
              "      <td>70.0</td>\n",
              "      <td>1229</td>\n",
              "      <td>1249</td>\n",
              "      <td>[1, 2, 3, 9, 15, 21]</td>\n",
              "      <td>888</td>\n",
              "      <td>[12, 23, 25, 29, 45, 85, 92, 124, 156, 190, 27...</td>\n",
              "      <td>6</td>\n",
              "      <td>20</td>\n",
              "      <td>0.0878</td>\n",
              "      <td>0.0135</td>\n",
              "      <td>0.0000</td>\n",
              "      <td>184.204108</td>\n",
              "      <td>114.204108</td>\n",
              "    </tr>\n",
              "    <tr>\n",
              "      <th>3</th>\n",
              "      <td>240.0</td>\n",
              "      <td>1295</td>\n",
              "      <td>1377</td>\n",
              "      <td>[1, 14]</td>\n",
              "      <td>440</td>\n",
              "      <td>[44, 122, 187, 209, 242, 255, 312, 345, 382, 4...</td>\n",
              "      <td>2</td>\n",
              "      <td>82</td>\n",
              "      <td>0.2295</td>\n",
              "      <td>0.1295</td>\n",
              "      <td>0.0727</td>\n",
              "      <td>204.438568</td>\n",
              "      <td>-35.561432</td>\n",
              "    </tr>\n",
              "    <tr>\n",
              "      <th>4</th>\n",
              "      <td>262.0</td>\n",
              "      <td>752</td>\n",
              "      <td>990</td>\n",
              "      <td>[1, 3, 7, 8]</td>\n",
              "      <td>1476</td>\n",
              "      <td>[15, 24, 30, 43, 50, 53, 96, 105, 159, 168, 18...</td>\n",
              "      <td>4</td>\n",
              "      <td>238</td>\n",
              "      <td>0.3963</td>\n",
              "      <td>0.2785</td>\n",
              "      <td>0.2270</td>\n",
              "      <td>219.125446</td>\n",
              "      <td>-42.874554</td>\n",
              "    </tr>\n",
              "  </tbody>\n",
              "</table>\n",
              "</div>"
            ],
            "text/plain": [
              "     cpm  hour_start  hour_end  ... at_least_three   mean_cost discrepancy\n",
              "0  220.0        1058      1153  ...         0.0073  201.954843  -18.045157\n",
              "1  312.0        1295      1301  ...         0.0000  160.744132 -151.255868\n",
              "2   70.0        1229      1249  ...         0.0000  184.204108  114.204108\n",
              "3  240.0        1295      1377  ...         0.0727  204.438568  -35.561432\n",
              "4  262.0         752       990  ...         0.2270  219.125446  -42.874554\n",
              "\n",
              "[5 rows x 13 columns]"
            ]
          },
          "metadata": {
            "tags": []
          },
          "execution_count": 100
        }
      ]
    },
    {
      "cell_type": "code",
      "metadata": {
        "id": "YpnS-6KLtQ_f",
        "colab_type": "code",
        "outputId": "98aea3fd-117c-45eb-a57a-aa4a8ec44b43",
        "colab": {
          "base_uri": "https://localhost:8080/",
          "height": 458
        }
      },
      "source": [
        "sns.jointplot(x='discrepancy', y='at_least_one', data=validate_test)\n",
        "# кажется, если глянуть вероятнось по этому распределению, можно получить приятный результат\n",
        "# UPD практика показала, что можно даже не считать вероятность, модельке хватает разницы"
      ],
      "execution_count": 0,
      "outputs": [
        {
          "output_type": "execute_result",
          "data": {
            "text/plain": [
              "<seaborn.axisgrid.JointGrid at 0x7f3f96b92ba8>"
            ]
          },
          "metadata": {
            "tags": []
          },
          "execution_count": 101
        },
        {
          "output_type": "display_data",
          "data": {
            "image/png": "[encoded data removed]",
            "text/plain": [
              "<Figure size 432x432 with 3 Axes>"
            ]
          },
          "metadata": {
            "tags": []
          }
        }
      ]
    },
    {
      "cell_type": "code",
      "metadata": {
        "id": "TLCYMyYSv4K8",
        "colab_type": "code",
        "colab": {}
      },
      "source": [
        "# можно еще отношение глянуть\n",
        "validate_test['relative_dif'] = validate_test['mean_cost'].div(validate_test['cpm'])"
      ],
      "execution_count": 0,
      "outputs": []
    },
    {
      "cell_type": "code",
      "metadata": {
        "id": "6txwgviY9qQl",
        "colab_type": "code",
        "outputId": "68b295d8-5def-4268-a4d0-2e4ae38e0f0d",
        "colab": {
          "base_uri": "https://localhost:8080/",
          "height": 458
        }
      },
      "source": [
        "sns.jointplot(x='relative_dif', y='at_least_one', data=validate_test)\n",
        "# ну, с ним тоже можно потестить"
      ],
      "execution_count": 0,
      "outputs": [
        {
          "output_type": "execute_result",
          "data": {
            "text/plain": [
              "<seaborn.axisgrid.JointGrid at 0x7f3f8cdb5128>"
            ]
          },
          "metadata": {
            "tags": []
          },
          "execution_count": 104
        },
        {
          "output_type": "display_data",
          "data": {
            "image/png": "[encoded data removed]",
            "text/plain": [
              "<Figure size 432x432 with 3 Axes>"
            ]
          },
          "metadata": {
            "tags": []
          }
        }
      ]
    },
    {
      "cell_type": "code",
      "metadata": {
        "id": "Pnav-34O9r2M",
        "colab_type": "code",
        "colab": {}
      },
      "source": [
        ""
      ],
      "execution_count": 0,
      "outputs": []
    }
  ]
}